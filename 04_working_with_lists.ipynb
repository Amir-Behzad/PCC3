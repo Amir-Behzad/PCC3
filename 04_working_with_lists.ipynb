{
 "cells": [
  {
   "attachments": {},
   "cell_type": "markdown",
   "metadata": {},
   "source": [
    "# Working With Lists"
   ]
  },
  {
   "attachments": {},
   "cell_type": "markdown",
   "metadata": {},
   "source": [
    "## 4-1. Pizzas\n",
    "Think of at least three kinds of your favorite pizza. Store these pizza names in a list, and then use a `for` loop to print the name of each pizza.\n",
    "\n",
    "Modify your `for` loop to print a sentence using the name of the pizza, instead of printing just the name of the pizza. For each pizza, you should have one line of output containing a simple statement like `I like pepperoni pizza.`\n",
    "\n",
    "Add a line at the end of your program, outside the `for` loop, that states how much you like pizza. The output should consist of three or more lines about the kinds of pizza you like and then an additional sentence, such as I really love pizza!"
   ]
  },
  {
   "cell_type": "code",
   "execution_count": 1,
   "metadata": {},
   "outputs": [
    {
     "name": "stdout",
     "output_type": "stream",
     "text": [
      "I like Veggie pizza.\n",
      "I like Pepperoni  pizza.\n",
      "I like Meat pizza.\n",
      "I like Margherita pizza.\n",
      "I like BBQ Chicken pizza.\n",
      "I like Chicago pizza.\n"
     ]
    }
   ],
   "source": [
    "pizza_names = [\n",
    "    'Veggie',\n",
    "    'Pepperoni ',\n",
    "    'Meat',\n",
    "    'Margherita',\n",
    "    'BBQ Chicken',\n",
    "    'Chicago',\n",
    "]\n",
    "\n",
    "for pizza in pizza_names:\n",
    "  text = f\"I like {pizza} pizza.\"\n",
    "  print(text)"
   ]
  },
  {
   "attachments": {},
   "cell_type": "markdown",
   "metadata": {},
   "source": [
    "## 4-2. Animals\n",
    "Think of at least three different animals that have a common characteristic. Store the names of these animals in a list, and then use a for loop to print out the name of each animal.\n",
    "\n",
    "Modify your program to print a statement about each animal, such as A dog would make a great pet.\n",
    "Add a line at the end of your program, stating what these animals have in common. You could print a sentence, such as Any of these animals would make a great pet!"
   ]
  },
  {
   "cell_type": "code",
   "execution_count": 2,
   "metadata": {},
   "outputs": [
    {
     "name": "stdout",
     "output_type": "stream",
     "text": [
      "The tigers have tails.\n",
      "The monkeys have tails.\n",
      "The dogs have tails.\n",
      "The rats have tails.\n",
      "The wolfs have tails.\n"
     ]
    }
   ],
   "source": [
    "animals = [\n",
    "    'cat',\n",
    "    'monkey',\n",
    "    'dog',\n",
    "    'rat',\n",
    "    'wolf'\n",
    "]\n",
    "\n",
    "for animal in animals:\n",
    "    text = f\"The {animal}s have tails.\"\n",
    "    print(text)"
   ]
  },
  {
   "attachments": {},
   "cell_type": "markdown",
   "metadata": {},
   "source": [
    "## 4-3. Counting to Twenty\n",
    "Use a for loop to print the numbers from 1 to 20, inclusive."
   ]
  },
  {
   "cell_type": "code",
   "execution_count": null,
   "metadata": {},
   "outputs": [],
   "source": []
  },
  {
   "attachments": {},
   "cell_type": "markdown",
   "metadata": {},
   "source": [
    "## 4-4. One Million\n",
    "Make a list of the numbers from one to one million, and then use a for loop to print the numbers. (If the output is taking too long, stop it by pressing CTRL-C or by closing the output window.)"
   ]
  },
  {
   "cell_type": "code",
   "execution_count": null,
   "metadata": {},
   "outputs": [],
   "source": []
  },
  {
   "attachments": {},
   "cell_type": "markdown",
   "metadata": {},
   "source": [
    "## 4-5. Summing a Million\n",
    "Make a list of the numbers from one to one million, and then use `min()` and `max()` to make sure your list actually starts at one and ends at one million. Also, use the `sum()` function to see how quickly Python can add a million numbers."
   ]
  },
  {
   "cell_type": "code",
   "execution_count": null,
   "metadata": {},
   "outputs": [],
   "source": []
  },
  {
   "attachments": {},
   "cell_type": "markdown",
   "metadata": {},
   "source": [
    "## 4-6. Odd Numbers\n",
    "Use the third argument of the `range()` function to make a list of the odd numbers from 1 to 20. Use a for loop to print each number."
   ]
  },
  {
   "cell_type": "code",
   "execution_count": null,
   "metadata": {},
   "outputs": [],
   "source": []
  },
  {
   "attachments": {},
   "cell_type": "markdown",
   "metadata": {},
   "source": [
    "## 4-7. Threes\n",
    "Make a list of the multiples of 3, from 3 to 30. Use a for loop to print the numbers in your list."
   ]
  },
  {
   "cell_type": "code",
   "execution_count": null,
   "metadata": {},
   "outputs": [],
   "source": []
  },
  {
   "attachments": {},
   "cell_type": "markdown",
   "metadata": {},
   "source": [
    "## 4-8. Cubes\n",
    "A number raised to the third power is called a cube. For example, the cube of 2 is written as 2**3 in Python. Make a list of the first 10 cubes (that is, the cube of each integer from 1 through 10), and use a for loop to print out the value of each cube."
   ]
  },
  {
   "cell_type": "code",
   "execution_count": null,
   "metadata": {},
   "outputs": [],
   "source": []
  },
  {
   "attachments": {},
   "cell_type": "markdown",
   "metadata": {},
   "source": [
    "## 4-9. Cube Comprehension\n",
    "Use a list comprehension to generate a list of the first 10 cubes."
   ]
  },
  {
   "cell_type": "code",
   "execution_count": null,
   "metadata": {},
   "outputs": [],
   "source": []
  },
  {
   "attachments": {},
   "cell_type": "markdown",
   "metadata": {},
   "source": [
    "## 4-10. Slices\n",
    "Using one of the programs you wrote in this chapter, add several lines to the end of the program that do the following:\n",
    "\n",
    "Print the message `The first three items in the list are:`. Then use a slice to print the first three items from that program’s list.\n",
    "\n",
    "Print the message `Three items from the middle of the list are:`. Then use a slice to print three items from the middle of the list.\n",
    "\n",
    "Print the message `The last three items in the list are:`. Then use a slice to print the last three items in the list."
   ]
  },
  {
   "cell_type": "code",
   "execution_count": null,
   "metadata": {},
   "outputs": [],
   "source": []
  },
  {
   "attachments": {},
   "cell_type": "markdown",
   "metadata": {},
   "source": [
    "## 4-11. My Pizzas, Your Pizzas\n",
    "Start with your program from `Exercise 4-1`. Make a copy of the list of pizzas, and call it `friend_pizzas`. Then, do the following:\n",
    "\n",
    "Add a new pizza to the original list.\n",
    "\n",
    "Add a different pizza to the list `friend_pizzas`.\n",
    "\n",
    "Prove that you have two separate lists. Print the message `My favorite pizzas are`:, and then use a for loop to print the first list. Print the message `My friend’s favorite pizzas are:`, and then use a `for loop` to print the second list. Make sure each new pizza is stored in the appropriate list."
   ]
  },
  {
   "cell_type": "code",
   "execution_count": null,
   "metadata": {},
   "outputs": [],
   "source": []
  },
  {
   "attachments": {},
   "cell_type": "markdown",
   "metadata": {},
   "source": [
    "## 4-12. More Loops\n",
    "All versions of `foods.py` in this section have avoided using `for loops` when printing, to save space. Choose a version of `foods.py`, and write two for loops to print each list of foods."
   ]
  },
  {
   "cell_type": "code",
   "execution_count": null,
   "metadata": {},
   "outputs": [],
   "source": []
  },
  {
   "attachments": {},
   "cell_type": "markdown",
   "metadata": {},
   "source": [
    "## 4-13. Buffet\n",
    "A buffet-style restaurant offers only five basic foods. Think of five simple foods, and store them in a tuple.\n",
    "\n",
    "Use a for loop to print each food the restaurant offers.\n",
    "\n",
    "Try to modify one of the items, and make sure that Python rejects the change.\n",
    "\n",
    "The restaurant changes its menu, replacing two of the items with different foods. Add a line that rewrites the tuple, and then use a for loop to print each of the items on the revised menu."
   ]
  }
 ],
 "metadata": {
  "kernelspec": {
   "display_name": "base",
   "language": "python",
   "name": "python3"
  },
  "language_info": {
   "codemirror_mode": {
    "name": "ipython",
    "version": 3
   },
   "file_extension": ".py",
   "mimetype": "text/x-python",
   "name": "python",
   "nbconvert_exporter": "python",
   "pygments_lexer": "ipython3",
   "version": "3.11.1"
  },
  "orig_nbformat": 4
 },
 "nbformat": 4,
 "nbformat_minor": 2
}
