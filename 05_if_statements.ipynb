{
 "cells": [
  {
   "attachments": {},
   "cell_type": "markdown",
   "metadata": {},
   "source": [
    "## 5-1. Conditional Tests\n",
    "Write a series of conditional tests. Print a statement describing each test and your prediction for the results of each test. Your code should look something like this:\n",
    "\n",
    "---\n",
    "\n",
    "```python\n",
    "car = 'subaru'\n",
    "print(\"Is car == 'subaru'? I predict True.\")\n",
    "print(car == 'subaru')\n",
    "\n",
    "print(\"\\nIs car == 'audi'? I predict False.\")\n",
    "print(car == 'audi')\n",
    "```\n",
    "---\n",
    "\n",
    "Look closely at your results, and make sure you understand why each line evaluates to True or False.\n",
    "Create at least 10 tests. Have at least 5 tests evaluate to True and another 5 tests evaluate to False."
   ]
  },
  {
   "cell_type": "code",
   "execution_count": null,
   "metadata": {},
   "outputs": [],
   "source": []
  }
 ],
 "metadata": {
  "language_info": {
   "name": "python"
  },
  "orig_nbformat": 4
 },
 "nbformat": 4,
 "nbformat_minor": 2
}
