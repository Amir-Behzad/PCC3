{
 "cells": [
  {
   "attachments": {},
   "cell_type": "markdown",
   "metadata": {},
   "source": [
    "## 6-1. Person\n",
    "Use a dictionary to store information about a person you know. Store their first name, last name, age, and the city in which they live. You should have keys such as `first_name`, `last_name`, `age`, and `city`. Print each piece of information stored in your dictionary."
   ]
  },
  {
   "cell_type": "code",
   "execution_count": null,
   "metadata": {},
   "outputs": [],
   "source": [
    "ali = {\n",
    "  'age': 30,\n",
    "  'first_name': 'Ali',\n",
    "  'last_name': 'Taghavi',\n",
    "  'gender': 'male',\n",
    "  'github': 'github.com/ali',\n",
    "  'city': 'Sari'\n",
    "}"
   ]
  },
  {
   "attachments": {},
   "cell_type": "markdown",
   "metadata": {},
   "source": [
    "## 6-2. Favorite Numbers\n",
    "Use a dictionary to store people’s favorite numbers. Think of five names, and use them as keys in your dictionary. Think of a favorite number for each person, and store each as a value in your dictionary. Print each person’s name and their favorite number. For even more fun, poll a few friends and get some actual data for your program."
   ]
  },
  {
   "cell_type": "code",
   "execution_count": null,
   "metadata": {},
   "outputs": [],
   "source": [
    "fav_nums = {\n",
    "    'amir': 2,\n",
    "    'behzad': 4,\n",
    "    'lora': 6,\n",
    "    'dev': 666,\n",
    "    'david': 9\n",
    "}\n",
    "\n"
   ]
  },
  {
   "attachments": {},
   "cell_type": "markdown",
   "metadata": {},
   "source": [
    "## 6-3. Glossary\n",
    "A Python dictionary can be used to model an actual dictionary. However, to avoid confusion, let’s call it a glossary.\n",
    "\n",
    "Think of five programming words you’ve learned about in the previous chapters. Use these words as the keys in your glossary, and store their meanings as values.\n",
    "Print each word and its meaning as neatly formatted output. You might print the word followed by a colon and then its meaning, or print the word on one line and then print its meaning indented on a second line. Use the newline character (`\\n`) to insert a blank line between each word-meaning pair in your output."
   ]
  },
  {
   "cell_type": "code",
   "execution_count": 7,
   "metadata": {},
   "outputs": [
    {
     "data": {
      "text/plain": [
       "dict_items([('bug', 'An error in a program.'), ('compile', 'To translate a program written in a high-level language into a low-level language all at once, in preparation for later execution.'), ('high-level language', 'A programming language like Python that is designed to be easy for humans to read and write.'), ('interpret', 'To execute a program in a high-level language by translating it one line at a time.'), ('parse', 'To examine a program and analyze the syntactic structure.')])"
      ]
     },
     "execution_count": 7,
     "metadata": {},
     "output_type": "execute_result"
    }
   ],
   "source": [
    "glossary = {\n",
    "    'bug': 'An error in a program.',\n",
    "    'compile': 'To translate a program written in a high-level language into a low-level language all at once, in preparation for later execution.',\n",
    "    'high-level language': 'A programming language like Python that is designed to be easy for humans to read and write.',\n",
    "    'interpret': 'To execute a program in a high-level language by translating it one line at a time.',\n",
    "    'parse': 'To examine a program and analyze the syntactic structure.',\n",
    "}\n",
    "\n",
    "# glossary.items()\n",
    "\n",
    "for key in glossary:\n",
    "    print(f\"\\n{key.title()} :\\n\\t{glossary[key]}\")"
   ]
  },
  {
   "attachments": {},
   "cell_type": "markdown",
   "metadata": {},
   "source": [
    "## 6-4. Glossary 2\n",
    "Now that you know how to loop through a dictionary, clean up the code from Exercise `6-3` by replacing your series of `print()` calls with a loop that runs through the dictionary’s `keys` and `values`. When you’re sure that your loop works, add five more Python terms to your `glossary`. When you run your program again, these new words and meanings should automatically be included in the output."
   ]
  }
 ],
 "metadata": {
  "kernelspec": {
   "display_name": "base",
   "language": "python",
   "name": "python3"
  },
  "language_info": {
   "codemirror_mode": {
    "name": "ipython",
    "version": 3
   },
   "file_extension": ".py",
   "mimetype": "text/x-python",
   "name": "python",
   "nbconvert_exporter": "python",
   "pygments_lexer": "ipython3",
   "version": "3.10.11"
  },
  "orig_nbformat": 4
 },
 "nbformat": 4,
 "nbformat_minor": 2
}
