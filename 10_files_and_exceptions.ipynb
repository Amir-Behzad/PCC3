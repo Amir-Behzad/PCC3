{
 "cells": [
  {
   "attachments": {},
   "cell_type": "markdown",
   "metadata": {},
   "source": [
    "## 10-1. Learning Python\n",
    "Open a blank file in your text editor and write a few lines summarizing what you’ve learned about Python so far. Start each line with the phrase In Python you can. . . . Save the file as `learning_python.txt` in the same directory as your exercises from this chapter. Write a program that reads the file and prints what you wrote two times: print the contents once by reading in the entire file, and once by storing the lines in a list and then looping over each line."
   ]
  },
  {
   "cell_type": "code",
   "execution_count": null,
   "metadata": {},
   "outputs": [],
   "source": [
    "# ./Chapter_10/10_01.py"
   ]
  },
  {
   "attachments": {},
   "cell_type": "markdown",
   "metadata": {},
   "source": [
    "## 10-2.\tLearning C\n",
    "You can use the `replace()` method to replace any word in a string with a different word. Here’s a quick example showing how to replace `'dog'` with `'cat'` in a sentence:\n",
    "\n",
    "---\n",
    "```python\n",
    ">>> message = \"I really like dogs.\"\n",
    ">>> message.replace('dog', 'cat')\n",
    "```\n",
    "\n",
    "```\n",
    "'I really like cats.'\n",
    "```\n",
    "---\n",
    "\n",
    "\n",
    "Read in each line from the file you just created, `learning_python.txt`, and replace the word Python with the name of another language, such as `C`. Print each modified line to the screen."
   ]
  },
  {
   "cell_type": "code",
   "execution_count": null,
   "metadata": {},
   "outputs": [],
   "source": [
    "# ./Chapter_10/10_02.py"
   ]
  },
  {
   "attachments": {},
   "cell_type": "markdown",
   "metadata": {},
   "source": [
    "## 10-3.\tSimpler Code\n",
    "\n",
    "The program `file_reader.py` in this section uses a temporary variable, lines, to show how `splitlines()` works. You can skip the temporary variable and loop directly over the list that `splitlines()` returns:\n",
    "\n",
    "---\n",
    "```python\n",
    "for line in contents.splitlines():\n",
    "```\n",
    "---\n",
    "Remove the temporary variable from each of the programs in this section, to make them more concise."
   ]
  },
  {
   "cell_type": "code",
   "execution_count": null,
   "metadata": {},
   "outputs": [],
   "source": []
  }
 ],
 "metadata": {
  "language_info": {
   "name": "python"
  },
  "orig_nbformat": 4
 },
 "nbformat": 4,
 "nbformat_minor": 2
}
