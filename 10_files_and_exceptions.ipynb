{
 "cells": [
  {
   "attachments": {},
   "cell_type": "markdown",
   "metadata": {},
   "source": [
    "## 10-1. Learning Python\n",
    "Open a blank file in your text editor and write a few lines summarizing what you’ve learned about Python so far. Start each line with the phrase In Python you can. . . . Save the file as `learning_python.txt` in the same directory as your exercises from this chapter. Write a program that reads the file and prints what you wrote two times: print the contents once by reading in the entire file, and once by storing the lines in a list and then looping over each line."
   ]
  },
  {
   "cell_type": "code",
   "execution_count": null,
   "metadata": {},
   "outputs": [],
   "source": [
    "# ./Chapter_10/10_01.py"
   ]
  },
  {
   "attachments": {},
   "cell_type": "markdown",
   "metadata": {},
   "source": [
    "## 10-2.\tLearning C\n",
    "You can use the `replace()` method to replace any word in a string with a different word. Here’s a quick example showing how to replace `'dog'` with `'cat'` in a sentence:\n",
    "\n",
    "---\n",
    "```python\n",
    ">>> message = \"I really like dogs.\"\n",
    ">>> message.replace('dog', 'cat')\n",
    "```\n",
    "\n",
    "```\n",
    "'I really like cats.'\n",
    "```\n",
    "---\n",
    "\n",
    "\n",
    "Read in each line from the file you just created, `learning_python.txt`, and replace the word Python with the name of another language, such as `C`. Print each modified line to the screen."
   ]
  },
  {
   "cell_type": "code",
   "execution_count": null,
   "metadata": {},
   "outputs": [],
   "source": [
    "# ./Chapter_10/10_02.py"
   ]
  },
  {
   "attachments": {},
   "cell_type": "markdown",
   "metadata": {},
   "source": [
    "## 10-3.\tSimpler Code\n",
    "\n",
    "The program `file_reader.py` in this section uses a temporary variable, `lines`, to show how `splitlines()` works. You can skip the temporary variable and loop directly over the list that `splitlines()` returns:\n",
    "\n",
    "---\n",
    "```python\n",
    "for line in contents.splitlines():\n",
    "```\n",
    "---\n",
    "Remove the temporary variable from each of the programs in this section, to make them more concise."
   ]
  },
  {
   "cell_type": "code",
   "execution_count": null,
   "metadata": {},
   "outputs": [],
   "source": []
  },
  {
   "attachments": {},
   "cell_type": "markdown",
   "metadata": {},
   "source": [
    "## 10-4.\tGuest\n",
    "Write a program that prompts the user for their name. When they respond, write their name to a file called `guest.txt`."
   ]
  },
  {
   "cell_type": "code",
   "execution_count": null,
   "metadata": {},
   "outputs": [],
   "source": []
  },
  {
   "attachments": {},
   "cell_type": "markdown",
   "metadata": {},
   "source": [
    "## 10-5.\tGuest Book\n",
    "Write a while loop that prompts users for their name. Collect all the names that are entered, and then write these names to a file called `guest_book.txt`. Make sure each entry appears on a new line in the file."
   ]
  },
  {
   "attachments": {},
   "cell_type": "markdown",
   "metadata": {},
   "source": [
    "## 10-6.\tAddition\n",
    "One common problem when prompting for numerical input occurs when people provide text instead of numbers. When you try to convert the input to an int, you’ll get a ValueError. Write a program that prompts for two numbers. Add them together and print the result. Catch the ValueError if either input value is not a number, and print a friendly error message. Test your program by entering two numbers and then by entering some text instead of a number."
   ]
  },
  {
   "attachments": {},
   "cell_type": "markdown",
   "metadata": {},
   "source": [
    "## 10-7.\tAddition Calculator\n",
    "Wrap your code from Exercise `10-6` in a while loop so the user can continue entering numbers, even if they make a mistake and enter text instead of a number."
   ]
  },
  {
   "attachments": {},
   "cell_type": "markdown",
   "metadata": {},
   "source": [
    "## 10-8.\tCats and Dogs\n",
    "Make two files, `cats.txt` and `dogs.txt`. Store at least three names of cats in the first file and three names of dogs in the second file. Write a program that tries to read these files and print the contents of the file to the screen. Wrap your code in a try-except block to catch the `FileNotFound` error, and print a friendly message if a file is missing. Move one of the files to a different location on your system, and make sure the code in the except block executes properly."
   ]
  },
  {
   "attachments": {},
   "cell_type": "markdown",
   "metadata": {},
   "source": [
    "## 10-9.\tSilent Cats and Dogs\n",
    "Modify your except block in Exercise `10-7` to fail silently if either file is missing."
   ]
  },
  {
   "attachments": {},
   "cell_type": "markdown",
   "metadata": {},
   "source": [
    "## 10-10. Common Words\n",
    "Visit Project Gutenberg (https://gutenberg.org) and find a few texts you’d like to analyze. Download the text files for these works, or copy the raw text from your browser into a text file on your computer.\n",
    "You can use the `count()` method to find out how many times a word or phrase appears in a string. For example, the following code counts the number of times `'row'` appears in a string:\n",
    "\n",
    "---\n",
    "\n",
    "```python\n",
    ">>> line = \"Row, row, row your boat\"\n",
    ">>> line.count('row')\n",
    "```\n",
    "2\n",
    "\n",
    "```python\n",
    ">>> line.lower().count('row')\n",
    "```\n",
    "3\n",
    "\n",
    "---\n",
    "\n",
    "\n",
    "Notice that converting the string to lowercase using `lower()` catches all appearances of the word you’re looking for, regardless of how it’s formatted.\n",
    "Write a program that reads the files you found at Project Gutenberg and determines how many times the word `'the'` appears in each text. This will be an approximation because it will also count words such as `'then'` and `'there'`. Try counting `'the '`, with a space in the string, and see how much lower your count is."
   ]
  },
  {
   "attachments": {},
   "cell_type": "markdown",
   "metadata": {},
   "source": [
    "## 10-11. Favorite Number\n",
    "Write a program that prompts for the user’s favorite number. Use `json.dumps()` to store this number in a file. Write a separate program that reads in this value and prints the message `“I know your favorite number! It’s _____.”` ."
   ]
  },
  {
   "attachments": {},
   "cell_type": "markdown",
   "metadata": {},
   "source": [
    "## 10-12. Favorite Number Remembered\n",
    "Combine the two programs you wrote in Exercise `10-11` into one file. If the number is already stored, report the favorite number to the user. If not, prompt for the user’s favorite number and store it in a file. Run the program twice to see that it works."
   ]
  },
  {
   "attachments": {},
   "cell_type": "markdown",
   "metadata": {},
   "source": [
    "## 10-13. User Dictionary\n",
    "The `remember_me.py` example only stores one piece of information, the username. Expand this example by asking for two more pieces of information about the user, then store all the information you collect in a dictionary. Write this dictionary to a file using `json.dumps()`, and read it back in using `json.loads()`. Print a summary showing exactly what your program remembers about the user."
   ]
  },
  {
   "attachments": {},
   "cell_type": "markdown",
   "metadata": {},
   "source": [
    "## 10-14. Verify User\n",
    "The final listing for `remember_me.py` assumes either that the user has already entered their username or that the program is running for the first time. We should modify it in case the current user is not the person who last used the program.\n",
    "\n",
    "Before printing a welcome back message in `greet_user()`, ask the user if this is the correct username. If it’s not, call `get_new_username()` to get the correct username."
   ]
  }
 ],
 "metadata": {
  "kernelspec": {
   "display_name": "Python 3",
   "language": "python",
   "name": "python3"
  },
  "language_info": {
   "codemirror_mode": {
    "name": "ipython",
    "version": 3
   },
   "file_extension": ".py",
   "mimetype": "text/x-python",
   "name": "python",
   "nbconvert_exporter": "python",
   "pygments_lexer": "ipython3",
   "version": "3.11.3"
  },
  "orig_nbformat": 4
 },
 "nbformat": 4,
 "nbformat_minor": 2
}
